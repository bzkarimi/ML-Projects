{
 "cells": [
  {
   "cell_type": "markdown",
   "metadata": {},
   "source": [
    "## Hotel Cancellations (Originally from Kaggle Courses)\n",
    "We will build a model to predict hotel cancellations with a binary classifier."
   ]
  },
  {
   "cell_type": "code",
   "execution_count": 1,
   "metadata": {},
   "outputs": [],
   "source": [
    "import matplotlib.pyplot as plt\n",
    "plt.style.use('seaborn-whitegrid')\n",
    "plt.rc('figure', autolayout=True)\n",
    "plt.rc('axes', labelweight='bold', labelsize='large',\n",
    "       titleweight='bold', titlesize=18, titlepad=10)\n",
    "plt.rc('animation', html='html5')"
   ]
  },
  {
   "cell_type": "code",
   "execution_count": 2,
   "metadata": {},
   "outputs": [],
   "source": [
    "import pandas as pd\n",
    "\n",
    "from sklearn.model_selection import train_test_split\n",
    "from sklearn.preprocessing import StandardScaler, OneHotEncoder\n",
    "from sklearn.impute import SimpleImputer\n",
    "from sklearn.pipeline import make_pipeline\n",
    "from sklearn.compose import make_column_transformer\n",
    "\n",
    "hotel = pd.read_csv('./hotel.csv')\n",
    "\n",
    "X = hotel.copy() # Deep Copy \n",
    "y = X.pop('is_canceled')"
   ]
  },
  {
   "cell_type": "code",
   "execution_count": 3,
   "metadata": {},
   "outputs": [
    {
     "data": {
      "text/html": [
       "<div>\n",
       "<style scoped>\n",
       "    .dataframe tbody tr th:only-of-type {\n",
       "        vertical-align: middle;\n",
       "    }\n",
       "\n",
       "    .dataframe tbody tr th {\n",
       "        vertical-align: top;\n",
       "    }\n",
       "\n",
       "    .dataframe thead th {\n",
       "        text-align: right;\n",
       "    }\n",
       "</style>\n",
       "<table border=\"1\" class=\"dataframe\">\n",
       "  <thead>\n",
       "    <tr style=\"text-align: right;\">\n",
       "      <th></th>\n",
       "      <th>hotel</th>\n",
       "      <th>lead_time</th>\n",
       "      <th>arrival_date_year</th>\n",
       "      <th>arrival_date_month</th>\n",
       "      <th>arrival_date_week_number</th>\n",
       "      <th>arrival_date_day_of_month</th>\n",
       "      <th>stays_in_weekend_nights</th>\n",
       "      <th>stays_in_week_nights</th>\n",
       "      <th>adults</th>\n",
       "      <th>children</th>\n",
       "      <th>...</th>\n",
       "      <th>deposit_type</th>\n",
       "      <th>agent</th>\n",
       "      <th>company</th>\n",
       "      <th>days_in_waiting_list</th>\n",
       "      <th>customer_type</th>\n",
       "      <th>adr</th>\n",
       "      <th>required_car_parking_spaces</th>\n",
       "      <th>total_of_special_requests</th>\n",
       "      <th>reservation_status</th>\n",
       "      <th>reservation_status_date</th>\n",
       "    </tr>\n",
       "  </thead>\n",
       "  <tbody>\n",
       "    <tr>\n",
       "      <th>0</th>\n",
       "      <td>Resort Hotel</td>\n",
       "      <td>342</td>\n",
       "      <td>2015</td>\n",
       "      <td>July</td>\n",
       "      <td>27</td>\n",
       "      <td>1</td>\n",
       "      <td>0</td>\n",
       "      <td>0</td>\n",
       "      <td>2</td>\n",
       "      <td>0.0</td>\n",
       "      <td>...</td>\n",
       "      <td>No Deposit</td>\n",
       "      <td>NaN</td>\n",
       "      <td>NaN</td>\n",
       "      <td>0</td>\n",
       "      <td>Transient</td>\n",
       "      <td>0.0</td>\n",
       "      <td>0</td>\n",
       "      <td>0</td>\n",
       "      <td>Check-Out</td>\n",
       "      <td>2015-07-01</td>\n",
       "    </tr>\n",
       "    <tr>\n",
       "      <th>1</th>\n",
       "      <td>Resort Hotel</td>\n",
       "      <td>737</td>\n",
       "      <td>2015</td>\n",
       "      <td>July</td>\n",
       "      <td>27</td>\n",
       "      <td>1</td>\n",
       "      <td>0</td>\n",
       "      <td>0</td>\n",
       "      <td>2</td>\n",
       "      <td>0.0</td>\n",
       "      <td>...</td>\n",
       "      <td>No Deposit</td>\n",
       "      <td>NaN</td>\n",
       "      <td>NaN</td>\n",
       "      <td>0</td>\n",
       "      <td>Transient</td>\n",
       "      <td>0.0</td>\n",
       "      <td>0</td>\n",
       "      <td>0</td>\n",
       "      <td>Check-Out</td>\n",
       "      <td>2015-07-01</td>\n",
       "    </tr>\n",
       "    <tr>\n",
       "      <th>2</th>\n",
       "      <td>Resort Hotel</td>\n",
       "      <td>7</td>\n",
       "      <td>2015</td>\n",
       "      <td>July</td>\n",
       "      <td>27</td>\n",
       "      <td>1</td>\n",
       "      <td>0</td>\n",
       "      <td>1</td>\n",
       "      <td>1</td>\n",
       "      <td>0.0</td>\n",
       "      <td>...</td>\n",
       "      <td>No Deposit</td>\n",
       "      <td>NaN</td>\n",
       "      <td>NaN</td>\n",
       "      <td>0</td>\n",
       "      <td>Transient</td>\n",
       "      <td>75.0</td>\n",
       "      <td>0</td>\n",
       "      <td>0</td>\n",
       "      <td>Check-Out</td>\n",
       "      <td>2015-07-02</td>\n",
       "    </tr>\n",
       "    <tr>\n",
       "      <th>3</th>\n",
       "      <td>Resort Hotel</td>\n",
       "      <td>13</td>\n",
       "      <td>2015</td>\n",
       "      <td>July</td>\n",
       "      <td>27</td>\n",
       "      <td>1</td>\n",
       "      <td>0</td>\n",
       "      <td>1</td>\n",
       "      <td>1</td>\n",
       "      <td>0.0</td>\n",
       "      <td>...</td>\n",
       "      <td>No Deposit</td>\n",
       "      <td>304.0</td>\n",
       "      <td>NaN</td>\n",
       "      <td>0</td>\n",
       "      <td>Transient</td>\n",
       "      <td>75.0</td>\n",
       "      <td>0</td>\n",
       "      <td>0</td>\n",
       "      <td>Check-Out</td>\n",
       "      <td>2015-07-02</td>\n",
       "    </tr>\n",
       "    <tr>\n",
       "      <th>4</th>\n",
       "      <td>Resort Hotel</td>\n",
       "      <td>14</td>\n",
       "      <td>2015</td>\n",
       "      <td>July</td>\n",
       "      <td>27</td>\n",
       "      <td>1</td>\n",
       "      <td>0</td>\n",
       "      <td>2</td>\n",
       "      <td>2</td>\n",
       "      <td>0.0</td>\n",
       "      <td>...</td>\n",
       "      <td>No Deposit</td>\n",
       "      <td>240.0</td>\n",
       "      <td>NaN</td>\n",
       "      <td>0</td>\n",
       "      <td>Transient</td>\n",
       "      <td>98.0</td>\n",
       "      <td>0</td>\n",
       "      <td>1</td>\n",
       "      <td>Check-Out</td>\n",
       "      <td>2015-07-03</td>\n",
       "    </tr>\n",
       "  </tbody>\n",
       "</table>\n",
       "<p>5 rows × 31 columns</p>\n",
       "</div>"
      ],
      "text/plain": [
       "          hotel  lead_time  arrival_date_year arrival_date_month  \\\n",
       "0  Resort Hotel        342               2015               July   \n",
       "1  Resort Hotel        737               2015               July   \n",
       "2  Resort Hotel          7               2015               July   \n",
       "3  Resort Hotel         13               2015               July   \n",
       "4  Resort Hotel         14               2015               July   \n",
       "\n",
       "   arrival_date_week_number  arrival_date_day_of_month  \\\n",
       "0                        27                          1   \n",
       "1                        27                          1   \n",
       "2                        27                          1   \n",
       "3                        27                          1   \n",
       "4                        27                          1   \n",
       "\n",
       "   stays_in_weekend_nights  stays_in_week_nights  adults  children  ...  \\\n",
       "0                        0                     0       2       0.0  ...   \n",
       "1                        0                     0       2       0.0  ...   \n",
       "2                        0                     1       1       0.0  ...   \n",
       "3                        0                     1       1       0.0  ...   \n",
       "4                        0                     2       2       0.0  ...   \n",
       "\n",
       "   deposit_type  agent company days_in_waiting_list customer_type   adr  \\\n",
       "0    No Deposit    NaN     NaN                    0     Transient   0.0   \n",
       "1    No Deposit    NaN     NaN                    0     Transient   0.0   \n",
       "2    No Deposit    NaN     NaN                    0     Transient  75.0   \n",
       "3    No Deposit  304.0     NaN                    0     Transient  75.0   \n",
       "4    No Deposit  240.0     NaN                    0     Transient  98.0   \n",
       "\n",
       "   required_car_parking_spaces  total_of_special_requests reservation_status  \\\n",
       "0                            0                          0          Check-Out   \n",
       "1                            0                          0          Check-Out   \n",
       "2                            0                          0          Check-Out   \n",
       "3                            0                          0          Check-Out   \n",
       "4                            0                          1          Check-Out   \n",
       "\n",
       "  reservation_status_date  \n",
       "0              2015-07-01  \n",
       "1              2015-07-01  \n",
       "2              2015-07-02  \n",
       "3              2015-07-02  \n",
       "4              2015-07-03  \n",
       "\n",
       "[5 rows x 31 columns]"
      ]
     },
     "execution_count": 3,
     "metadata": {},
     "output_type": "execute_result"
    }
   ],
   "source": [
    "X.head()"
   ]
  },
  {
   "cell_type": "code",
   "execution_count": 4,
   "metadata": {},
   "outputs": [
    {
     "data": {
      "text/plain": [
       "0    0\n",
       "1    0\n",
       "2    0\n",
       "3    0\n",
       "4    0\n",
       "Name: is_canceled, dtype: int64"
      ]
     },
     "execution_count": 4,
     "metadata": {},
     "output_type": "execute_result"
    }
   ],
   "source": [
    "y.head()"
   ]
  },
  {
   "cell_type": "code",
   "execution_count": 5,
   "metadata": {},
   "outputs": [],
   "source": [
    "# Mapping dates to numbers\n",
    "\n",
    "X['arrival_date_month'] = X['arrival_date_month'].map({'January':1, 'February': 2, 'March':3,\n",
    "                                                       'April':4, 'May':5, 'June':6, 'July':7,\n",
    "                                                       'August':8, 'September':9, 'October':10,\n",
    "                                                       'November':11, 'December':12})"
   ]
  },
  {
   "cell_type": "code",
   "execution_count": 6,
   "metadata": {},
   "outputs": [],
   "source": [
    "# Defining features\n",
    "\n",
    "features_num = [\"lead_time\", \"arrival_date_week_number\",\n",
    "                \"arrival_date_day_of_month\", \"stays_in_weekend_nights\",\n",
    "                \"stays_in_week_nights\", \"adults\", \"children\", \"babies\",\n",
    "                \"is_repeated_guest\", \"previous_cancellations\",\n",
    "                \"previous_bookings_not_canceled\", \"required_car_parking_spaces\",\n",
    "                \"total_of_special_requests\", \"adr\"]"
   ]
  },
  {
   "cell_type": "code",
   "execution_count": 7,
   "metadata": {},
   "outputs": [],
   "source": [
    "# Defining categorical features\n",
    "\n",
    "features_cat = [\"hotel\", \"arrival_date_month\", \"meal\",\n",
    "                \"market_segment\", \"distribution_channel\",\n",
    "                \"reserved_room_type\", \"deposit_type\", \"customer_type\"]"
   ]
  },
  {
   "cell_type": "code",
   "execution_count": 8,
   "metadata": {},
   "outputs": [],
   "source": [
    "# Transforming numerical and categorical features\n",
    "\n",
    "transformer_num = make_pipeline(SimpleImputer(strategy=\"constant\"), # there are a few missing values\n",
    "                                StandardScaler())\n",
    "\n",
    "transformer_cat = make_pipeline(SimpleImputer(strategy=\"constant\", fill_value=\"NA\"),\n",
    "                                OneHotEncoder(handle_unknown='ignore'))\n",
    "\n",
    "preprocessor = make_column_transformer((transformer_num, features_num),\n",
    "                                       (transformer_cat, features_cat))"
   ]
  },
  {
   "cell_type": "code",
   "execution_count": 9,
   "metadata": {},
   "outputs": [
    {
     "name": "stdout",
     "output_type": "stream",
     "text": [
      "[63]\n"
     ]
    }
   ],
   "source": [
    "# stratify - make sure classes are evenlly represented across splits\n",
    "\n",
    "X_train, X_valid, y_train, y_valid = train_test_split(X, y, stratify=y, train_size=0.75)\n",
    "\n",
    "X_train = preprocessor.fit_transform(X_train)\n",
    "X_valid = preprocessor.transform(X_valid)\n",
    "\n",
    "input_shape = [X_train.shape[1]]\n",
    "print(input_shape)"
   ]
  },
  {
   "cell_type": "markdown",
   "metadata": {},
   "source": [
    "## Defining a Model\n",
    "The model will have both batch normalization and dropout layers."
   ]
  },
  {
   "cell_type": "code",
   "execution_count": 10,
   "metadata": {},
   "outputs": [],
   "source": [
    "from tensorflow import keras\n",
    "from tensorflow.keras import layers\n",
    "\n",
    "model = keras.Sequential([layers.BatchNormalization(),\n",
    "                          layers.Dense(256, activation='relu', input_shape=input_shape),\n",
    "                          layers.BatchNormalization(),\n",
    "                          layers.Dropout(rate=0.3),\n",
    "                          layers.Dense(256, activation='relu'),\n",
    "                          layers.BatchNormalization(),\n",
    "                          layers.Dropout(rate=0.3),\n",
    "                          layers.Dense(1, activation='sigmoid')])"
   ]
  },
  {
   "cell_type": "markdown",
   "metadata": {},
   "source": [
    "<figure style=\"padding: 1em;\">\n",
    "<img src=\"NN_diagram.png\" width=\"400\">\n",
    "</figure>"
   ]
  },
  {
   "cell_type": "markdown",
   "metadata": {},
   "source": [
    "## Optimizer, Loss Function, and Accuracy Metric\n",
    "We use Adam optimizer and binary versions of the cross-entropy loss and accuracy metric."
   ]
  },
  {
   "cell_type": "code",
   "execution_count": 11,
   "metadata": {},
   "outputs": [],
   "source": [
    "model.compile(optimizer='adam', loss='binary_crossentropy', metrics=['binary_accuracy'])"
   ]
  },
  {
   "cell_type": "markdown",
   "metadata": {},
   "source": [
    "## Early stopping to prevent overfitting"
   ]
  },
  {
   "cell_type": "code",
   "execution_count": 12,
   "metadata": {},
   "outputs": [
    {
     "name": "stdout",
     "output_type": "stream",
     "text": [
      "Epoch 1/200\n",
      "175/175 [==============================] - 3s 10ms/step - loss: 0.5533 - binary_accuracy: 0.7312 - val_loss: 0.4381 - val_binary_accuracy: 0.8044\n",
      "Epoch 2/200\n",
      "175/175 [==============================] - 1s 8ms/step - loss: 0.4311 - binary_accuracy: 0.7976 - val_loss: 0.4026 - val_binary_accuracy: 0.8138\n",
      "Epoch 3/200\n",
      "175/175 [==============================] - 1s 8ms/step - loss: 0.4133 - binary_accuracy: 0.8075 - val_loss: 0.3988 - val_binary_accuracy: 0.8138\n",
      "Epoch 4/200\n",
      "175/175 [==============================] - 1s 8ms/step - loss: 0.4009 - binary_accuracy: 0.8117 - val_loss: 0.3913 - val_binary_accuracy: 0.8175\n",
      "Epoch 5/200\n",
      "175/175 [==============================] - 1s 8ms/step - loss: 0.3978 - binary_accuracy: 0.8147 - val_loss: 0.3873 - val_binary_accuracy: 0.8209\n",
      "Epoch 6/200\n",
      "175/175 [==============================] - 1s 8ms/step - loss: 0.3906 - binary_accuracy: 0.8185 - val_loss: 0.3864 - val_binary_accuracy: 0.8213\n",
      "Epoch 7/200\n",
      "175/175 [==============================] - 1s 8ms/step - loss: 0.3900 - binary_accuracy: 0.8184 - val_loss: 0.3817 - val_binary_accuracy: 0.8247\n",
      "Epoch 8/200\n",
      "175/175 [==============================] - 1s 8ms/step - loss: 0.3834 - binary_accuracy: 0.8215 - val_loss: 0.3837 - val_binary_accuracy: 0.8239\n",
      "Epoch 9/200\n",
      "175/175 [==============================] - 1s 8ms/step - loss: 0.3818 - binary_accuracy: 0.8211 - val_loss: 0.3803 - val_binary_accuracy: 0.8265\n",
      "Epoch 10/200\n",
      "175/175 [==============================] - 1s 8ms/step - loss: 0.3794 - binary_accuracy: 0.8224 - val_loss: 0.3762 - val_binary_accuracy: 0.8300\n",
      "Epoch 11/200\n",
      "175/175 [==============================] - 1s 8ms/step - loss: 0.3764 - binary_accuracy: 0.8249 - val_loss: 0.3737 - val_binary_accuracy: 0.8328\n",
      "Epoch 12/200\n",
      "175/175 [==============================] - 1s 8ms/step - loss: 0.3735 - binary_accuracy: 0.8267 - val_loss: 0.3691 - val_binary_accuracy: 0.8318\n",
      "Epoch 13/200\n",
      "175/175 [==============================] - 1s 8ms/step - loss: 0.3715 - binary_accuracy: 0.8279 - val_loss: 0.3686 - val_binary_accuracy: 0.8322\n",
      "Epoch 14/200\n",
      "175/175 [==============================] - 1s 8ms/step - loss: 0.3703 - binary_accuracy: 0.8279 - val_loss: 0.3683 - val_binary_accuracy: 0.8324\n",
      "Epoch 15/200\n",
      "175/175 [==============================] - 1s 8ms/step - loss: 0.3670 - binary_accuracy: 0.8296 - val_loss: 0.3672 - val_binary_accuracy: 0.8328\n",
      "Epoch 16/200\n",
      "175/175 [==============================] - 2s 9ms/step - loss: 0.3632 - binary_accuracy: 0.8324 - val_loss: 0.3666 - val_binary_accuracy: 0.8347\n",
      "Epoch 17/200\n",
      "175/175 [==============================] - 1s 8ms/step - loss: 0.3638 - binary_accuracy: 0.8301 - val_loss: 0.3637 - val_binary_accuracy: 0.8346\n",
      "Epoch 18/200\n",
      "175/175 [==============================] - 1s 8ms/step - loss: 0.3639 - binary_accuracy: 0.8319 - val_loss: 0.3679 - val_binary_accuracy: 0.8341\n",
      "Epoch 19/200\n",
      "175/175 [==============================] - 1s 8ms/step - loss: 0.3591 - binary_accuracy: 0.8340 - val_loss: 0.3649 - val_binary_accuracy: 0.8345\n",
      "Epoch 20/200\n",
      "175/175 [==============================] - 2s 9ms/step - loss: 0.3568 - binary_accuracy: 0.8338 - val_loss: 0.3584 - val_binary_accuracy: 0.8375\n",
      "Epoch 21/200\n",
      "175/175 [==============================] - 2s 9ms/step - loss: 0.3575 - binary_accuracy: 0.8347 - val_loss: 0.3579 - val_binary_accuracy: 0.8373\n",
      "Epoch 22/200\n",
      "175/175 [==============================] - 2s 10ms/step - loss: 0.3543 - binary_accuracy: 0.8354 - val_loss: 0.3591 - val_binary_accuracy: 0.8382\n",
      "Epoch 23/200\n",
      "175/175 [==============================] - 2s 10ms/step - loss: 0.3503 - binary_accuracy: 0.8385 - val_loss: 0.3568 - val_binary_accuracy: 0.8390\n",
      "Epoch 24/200\n",
      "175/175 [==============================] - 2s 9ms/step - loss: 0.3513 - binary_accuracy: 0.8373 - val_loss: 0.3577 - val_binary_accuracy: 0.8381\n",
      "Epoch 25/200\n",
      "175/175 [==============================] - 2s 10ms/step - loss: 0.3498 - binary_accuracy: 0.8383 - val_loss: 0.3578 - val_binary_accuracy: 0.8390\n",
      "Epoch 26/200\n",
      "175/175 [==============================] - 2s 10ms/step - loss: 0.3501 - binary_accuracy: 0.8385 - val_loss: 0.3575 - val_binary_accuracy: 0.8390\n",
      "Epoch 27/200\n",
      "175/175 [==============================] - 2s 10ms/step - loss: 0.3453 - binary_accuracy: 0.8392 - val_loss: 0.3560 - val_binary_accuracy: 0.8403\n",
      "Epoch 28/200\n",
      "175/175 [==============================] - 2s 10ms/step - loss: 0.3490 - binary_accuracy: 0.8372 - val_loss: 0.3552 - val_binary_accuracy: 0.8410\n",
      "Epoch 29/200\n",
      "175/175 [==============================] - 2s 10ms/step - loss: 0.3460 - binary_accuracy: 0.8402 - val_loss: 0.3548 - val_binary_accuracy: 0.8388\n",
      "Epoch 30/200\n",
      "175/175 [==============================] - 2s 10ms/step - loss: 0.3446 - binary_accuracy: 0.8395 - val_loss: 0.3539 - val_binary_accuracy: 0.8387\n",
      "Epoch 31/200\n",
      "175/175 [==============================] - 2s 10ms/step - loss: 0.3419 - binary_accuracy: 0.8416 - val_loss: 0.3591 - val_binary_accuracy: 0.8392\n",
      "Epoch 32/200\n",
      "175/175 [==============================] - 2s 10ms/step - loss: 0.3416 - binary_accuracy: 0.8418 - val_loss: 0.3566 - val_binary_accuracy: 0.8397\n",
      "Epoch 33/200\n",
      "175/175 [==============================] - 2s 10ms/step - loss: 0.3424 - binary_accuracy: 0.8395 - val_loss: 0.3551 - val_binary_accuracy: 0.8388\n",
      "Epoch 34/200\n",
      "175/175 [==============================] - 2s 10ms/step - loss: 0.3428 - binary_accuracy: 0.8408 - val_loss: 0.3509 - val_binary_accuracy: 0.8424\n",
      "Epoch 35/200\n",
      "175/175 [==============================] - 2s 11ms/step - loss: 0.3419 - binary_accuracy: 0.8417 - val_loss: 0.3539 - val_binary_accuracy: 0.8408\n",
      "Epoch 36/200\n",
      "175/175 [==============================] - 2s 11ms/step - loss: 0.3412 - binary_accuracy: 0.8418 - val_loss: 0.3562 - val_binary_accuracy: 0.8399\n",
      "Epoch 37/200\n",
      "175/175 [==============================] - 2s 10ms/step - loss: 0.3397 - binary_accuracy: 0.8425 - val_loss: 0.3523 - val_binary_accuracy: 0.8427\n",
      "Epoch 38/200\n",
      "175/175 [==============================] - 2s 11ms/step - loss: 0.3399 - binary_accuracy: 0.8423 - val_loss: 0.3520 - val_binary_accuracy: 0.8412\n",
      "Epoch 39/200\n",
      "175/175 [==============================] - 2s 11ms/step - loss: 0.3358 - binary_accuracy: 0.8450 - val_loss: 0.3502 - val_binary_accuracy: 0.8429\n"
     ]
    }
   ],
   "source": [
    "early_stopping = keras.callbacks.EarlyStopping(patience=5,min_delta=0.001,restore_best_weights=True)\n",
    "\n",
    "history = model.fit(X_train, y_train,\n",
    "                    validation_data=(X_valid, y_valid),\n",
    "                    batch_size=512,\n",
    "                    epochs=200,\n",
    "                    callbacks=[early_stopping])"
   ]
  },
  {
   "cell_type": "code",
   "execution_count": 13,
   "metadata": {},
   "outputs": [
    {
     "data": {
      "text/plain": [
       "<matplotlib.axes._subplots.AxesSubplot at 0x7f965e6e1f40>"
      ]
     },
     "execution_count": 13,
     "metadata": {},
     "output_type": "execute_result"
    },
    {
     "data": {
      "image/png": "[encoded data removed]",
      "text/plain": [
       "<Figure size 432x288 with 1 Axes>"
      ]
     },
     "metadata": {},
     "output_type": "display_data"
    },
    {
     "data": {
      "image/png": "[encoded data removed]",
      "text/plain": [
       "<Figure size 432x288 with 1 Axes>"
      ]
     },
     "metadata": {},
     "output_type": "display_data"
    }
   ],
   "source": [
    "history_df = pd.DataFrame(history.history)\n",
    "history_df.loc[:, ['loss', 'val_loss']].plot(title=\"Cross-entropy\")\n",
    "history_df.loc[:, ['binary_accuracy', 'val_binary_accuracy']].plot(title=\"Accuracy\")"
   ]
  },
  {
   "cell_type": "code",
   "execution_count": null,
   "metadata": {},
   "outputs": [],
   "source": []
  }
 ],
 "metadata": {
  "kernelspec": {
   "display_name": "Python 3",
   "language": "python",
   "name": "python3"
  },
  "language_info": {
   "codemirror_mode": {
    "name": "ipython",
    "version": 3
   },
   "file_extension": ".py",
   "mimetype": "text/x-python",
   "name": "python",
   "nbconvert_exporter": "python",
   "pygments_lexer": "ipython3",
   "version": "3.8.3"
  }
 },
 "nbformat": 4,
 "nbformat_minor": 4
}
